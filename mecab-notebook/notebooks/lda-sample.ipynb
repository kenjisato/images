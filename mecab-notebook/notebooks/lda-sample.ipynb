{
 "cells": [
  {
   "cell_type": "code",
   "execution_count": null,
   "id": "7574d802",
   "metadata": {
    "vscode": {
     "languageId": "plaintext"
    }
   },
   "outputs": [],
   "source": [
    "import MeCab\n",
    "import pyLDAvis\n",
    "import pyLDAvis.lda_model\n",
    "from sklearn.decomposition import LatentDirichletAllocation\n",
    "from sklearn.feature_extraction.text import CountVectorizer\n",
    "\n",
    "# サンプル日本語文\n",
    "docs = [\n",
    "    \"鬼滅の刃は人気のアニメです。\",\n",
    "    \"呪術廻戦もアニメ化されました。\",\n",
    "    \"炭治郎と禰豆子の物語が感動的です。\",\n",
    "    \"五条悟は強力なキャラクターです。\",\n",
    "    \"アニメ映画の興行収入が記録を更新しました。\"\n",
    "]\n",
    "\n",
    "# MeCab を使った簡易形態素解析器（名詞のみ抽出）\n",
    "def tokenize(text):\n",
    "    tagger = MeCab.Tagger()\n",
    "    node = tagger.parseToNode(text)\n",
    "    words = []\n",
    "    while node:\n",
    "        if node.feature.startswith(\"名詞\"):\n",
    "            words.append(node.surface)\n",
    "        node = node.next\n",
    "    return words\n",
    "\n",
    "# CountVectorizer に tokenizer を指定\n",
    "vectorizer = CountVectorizer(tokenizer=tokenize, token_pattern=None, max_df=0.95, min_df=1)\n",
    "dtm = vectorizer.fit_transform(docs)\n",
    "\n",
    "# LDA モデル構築\n",
    "lda = LatentDirichletAllocation(n_components=2, random_state=42)\n",
    "lda.fit(dtm)\n",
    "\n",
    "# 可視化\n",
    "pyLDAvis.enable_notebook()\n",
    "vis_data = pyLDAvis.lda_model.prepare(lda, dtm, vectorizer)\n",
    "vis_data\n"
   ]
  }
 ],
 "metadata": {
  "language_info": {
   "name": "python"
  }
 },
 "nbformat": 4,
 "nbformat_minor": 5
}
