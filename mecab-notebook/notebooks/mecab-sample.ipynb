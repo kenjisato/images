{
 "cells": [
  {
   "cell_type": "markdown",
   "metadata": {},
   "source": [
    "# MeCab + NEologd 形態素解析デモ\n",
    "\n",
    "このノートブックでは、`mecab-python3` と NEologd 辞書を使って形態素解析を行います。"
   ]
  },
  {
   "cell_type": "code",
   "execution_count": null,
   "metadata": {},
   "outputs": [],
   "source": [
    "# 必要なライブラリのインポート\n",
    "import MeCab"
   ]
  },
  {
   "cell_type": "code",
   "execution_count": null,
   "metadata": {},
   "outputs": [],
   "source": [
    "# タガーを生成（環境変数 MECABRC, MECAB_DICDIR が指定されていれば -d は省略可）\n",
    "tagger = MeCab.Tagger()\n",
    "tagger.parse('')  # バグ回避（parseToNode前に呼ぶと安定）"
   ]
  },
  {
   "cell_type": "code",
   "execution_count": null,
   "metadata": {},
   "outputs": [],
   "source": [
    "# テキストを解析\n",
    "text = \"鬼滅の刃が大ヒットした\"\n",
    "result = tagger.parse(text)\n",
    "print(result)"
   ]
  }
 ],
 "metadata": {
  "kernelspec": {
   "display_name": "Python 3 (ipykernel)",
   "language": "python",
   "name": "python3"
  },
  "language_info": {
   "name": "python",
   "version": ""
  }
 },
 "nbformat": 4,
 "nbformat_minor": 5
}
